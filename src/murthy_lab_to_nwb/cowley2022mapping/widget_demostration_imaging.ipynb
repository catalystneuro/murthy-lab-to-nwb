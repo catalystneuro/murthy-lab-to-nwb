{
 "cells": [
  {
   "cell_type": "markdown",
   "metadata": {},
   "source": [
    "# NWB Widgets"
   ]
  },
  {
   "cell_type": "code",
   "execution_count": null,
   "metadata": {},
   "outputs": [],
   "source": [
    "from pathlib import Path\n",
    "import random\n",
    "\n",
    "from pynwb import NWBHDF5IO\n",
    "from nwbwidgets import nwb2widget\n",
    "\n",
    "nwb_directory_path = Path(\"/home/heberto/conversion_nwb/\")\n",
    "nwb_file_path_list = list(nwb_directory_path.iterdir())\n",
    "nwb_file_path_list"
   ]
  },
  {
   "cell_type": "code",
   "execution_count": null,
   "metadata": {},
   "outputs": [],
   "source": [
    "nwb_file_path = nwb_directory_path / \"imaging_LC11_fly5_210803_201.nwb\"\n",
    "io = NWBHDF5IO(str(nwb_file_path), mode='r', load_namespaces=True)\n",
    "nwb = io.read()\n",
    "\n",
    "nwb2widget(nwb)"
   ]
  },
  {
   "cell_type": "markdown",
   "metadata": {},
   "source": [
    "## Trialized DF over F"
   ]
  },
  {
   "cell_type": "code",
   "execution_count": null,
   "metadata": {},
   "outputs": [],
   "source": [
    "from pathlib import Path\n",
    "from pynwb import NWBHDF5IO\n",
    "\n",
    "nwb_directory_path = Path(\"/home/heberto/conversion_nwb/\")\n",
    "nwb_file_path = nwb_directory_path / \"imaging_LC11_210803_201.nwb\"\n",
    "\n",
    "nwbfile = NWBHDF5IO(nwb_file_path, mode=\"r\", load_namespaces=True).read()\n",
    "\n",
    "# Roi response series\n",
    "df_over_f = (nwbfile.processing[\"ophys\"].data_interfaces[\"DfOverF\"])\n",
    "roi_response_series = df_over_f.roi_response_series[\"RoiResponseSeries\"]\n",
    "\n",
    "\n",
    "from nwbwidgets.timeseries import TrializedTimeSeries\n",
    "\n",
    "widget = TrializedTimeSeries(time_series=roi_response_series)\n",
    "widget\n"
   ]
  },
  {
   "cell_type": "code",
   "execution_count": null,
   "metadata": {},
   "outputs": [],
   "source": []
  }
 ],
 "metadata": {
  "kernelspec": {
   "display_name": "Python 3 (ipykernel)",
   "language": "python",
   "name": "python3"
  },
  "language_info": {
   "codemirror_mode": {
    "name": "ipython",
    "version": 3
   },
   "file_extension": ".py",
   "mimetype": "text/x-python",
   "name": "python",
   "nbconvert_exporter": "python",
   "pygments_lexer": "ipython3",
   "version": "3.10.8"
  },
  "vscode": {
   "interpreter": {
    "hash": "8bee52bf12387f4f7fcd6ea25d9c6786d94a6c9fba57d50250d835fcae94004c"
   }
  }
 },
 "nbformat": 4,
 "nbformat_minor": 2
}
