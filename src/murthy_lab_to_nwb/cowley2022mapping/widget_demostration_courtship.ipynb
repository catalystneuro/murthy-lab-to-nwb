{
 "cells": [
  {
   "cell_type": "markdown",
   "metadata": {},
   "source": [
    "# NWB Widgets"
   ]
  },
  {
   "cell_type": "markdown",
   "metadata": {},
   "source": [
    "## General"
   ]
  },
  {
   "cell_type": "code",
   "execution_count": null,
   "metadata": {},
   "outputs": [],
   "source": [
    "from pathlib import Path\n",
    "import random\n",
    "\n",
    "from pynwb import NWBHDF5IO\n",
    "from nwbwidgets import nwb2widget\n",
    "\n",
    "nwb_directory_path = Path(\"/home/heberto/conversion_nwb/\")\n",
    "nwb_file_path_list = list(nwb_directory_path.iterdir())\n",
    "nwb_file_path_list"
   ]
  },
  {
   "cell_type": "code",
   "execution_count": null,
   "metadata": {},
   "outputs": [],
   "source": [
    "nwb_file_path = nwb_directory_path / \"courtship_behavior_LC4_fly6.nwb\"\n",
    "io = NWBHDF5IO(str(nwb_file_path), mode='r', load_namespaces=True)\n",
    "nwb = io.read()\n",
    "\n",
    "nwb2widget(nwb)"
   ]
  },
  {
   "cell_type": "markdown",
   "metadata": {},
   "source": [
    "## Custom built"
   ]
  },
  {
   "cell_type": "code",
   "execution_count": null,
   "metadata": {},
   "outputs": [],
   "source": [
    "from murthy_lab_to_nwb.cowley2022mapping.utils.pose_estimation_visualization import PoseEstimationWidget\n",
    "\n",
    "nwb_file_path = nwb_directory_path / \"courtship_behavior_LC4_fly6.nwb\"\n",
    "io = NWBHDF5IO(str(nwb_file_path), mode='r', load_namespaces=True)\n",
    "nwb = io.read()"
   ]
  },
  {
   "cell_type": "code",
   "execution_count": null,
   "metadata": {},
   "outputs": [],
   "source": [
    "data_dir_path = Path(\"/media/heberto/SAMSUNG/Murthy-data-share/one2one-mapping\")  # Change to your system's path\n",
    "video_dir_path = data_dir_path / \"raw_data\" / \"courtship_behavior\" / \"videos\" / nwb_file_path.name.split(\"_\")[2]\n",
    "video_name = nwb.processing[\"Pose estimation behavior\"].data_interfaces[\"sex=female\"].original_videos[:][0][2:]\n",
    "video_file_path = video_dir_path / video_name \n",
    "\n",
    "pose_estimation_widget = PoseEstimationWidget(pose_estimation_module=nwb.processing[\"Pose estimation behavior\"], video_file_path=video_file_path)\n",
    "pose_estimation_widget"
   ]
  }
 ],
 "metadata": {
  "kernelspec": {
   "display_name": "Python 3.10.8 ('murthy_lab_to_nwb_env')",
   "language": "python",
   "name": "python3"
  },
  "language_info": {
   "codemirror_mode": {
    "name": "ipython",
    "version": 3
   },
   "file_extension": ".py",
   "mimetype": "text/x-python",
   "name": "python",
   "nbconvert_exporter": "python",
   "pygments_lexer": "ipython3",
   "version": "3.10.8"
  },
  "vscode": {
   "interpreter": {
    "hash": "8bee52bf12387f4f7fcd6ea25d9c6786d94a6c9fba57d50250d835fcae94004c"
   }
  }
 },
 "nbformat": 4,
 "nbformat_minor": 2
}
