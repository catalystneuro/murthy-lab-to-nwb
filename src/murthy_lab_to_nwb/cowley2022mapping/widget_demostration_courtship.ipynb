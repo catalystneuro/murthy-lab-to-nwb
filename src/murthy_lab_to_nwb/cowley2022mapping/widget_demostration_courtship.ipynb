{
 "cells": [
  {
   "cell_type": "code",
   "execution_count": null,
   "metadata": {},
   "outputs": [],
   "source": [
    "from pathlib import Path\n",
    "import random\n",
    "\n",
    "from pynwb import NWBHDF5IO\n",
    "from nwbwidgets import nwb2widget\n",
    "\n",
    "nwb_directory_path = Path(\"/home/heberto/conversion_nwb/nwb_stub/\")\n",
    "nwb_file_path_list = list(nwb_directory_path.iterdir())\n",
    "nwb_file_path_list"
   ]
  },
  {
   "cell_type": "code",
   "execution_count": null,
   "metadata": {},
   "outputs": [],
   "source": [
    "nwb_file_path = nwb_file_path_list[1]\n",
    "print(f\"{nwb_file_path.name}\")\n",
    "io = NWBHDF5IO(str(nwb_file_path), mode='r', load_namespaces=True)\n",
    "nwb = io.read()\n",
    "\n",
    "nwb2widget(nwb)"
   ]
  }
 ],
 "metadata": {
  "kernelspec": {
   "display_name": "Python 3.9.12 ('murthy_lab_env')",
   "language": "python",
   "name": "python3"
  },
  "language_info": {
   "name": "python",
   "version": "3.9.12"
  },
  "orig_nbformat": 4,
  "vscode": {
   "interpreter": {
    "hash": "1451a8c49258dc48574e4fe30e373408d3006ec5f294a1c4a71cd7776a36c0ea"
   }
  }
 },
 "nbformat": 4,
 "nbformat_minor": 2
}
