{
 "cells": [
  {
   "cell_type": "markdown",
   "metadata": {},
   "source": [
    "# NWB Widgets"
   ]
  },
  {
   "cell_type": "code",
   "execution_count": null,
   "metadata": {},
   "outputs": [],
   "source": [
    "from pathlib import Path\n",
    "\n",
    "nwb_directory_path = Path(\"/home/heberto/conversion_nwb/\")\n",
    "nwb_file_path_list = list(nwb_directory_path.iterdir())\n",
    "nwb_file_path_list"
   ]
  },
  {
   "cell_type": "code",
   "execution_count": null,
   "metadata": {},
   "outputs": [],
   "source": [
    "from pynwb import NWBHDF5IO\n",
    "from nwbwidgets import nwb2widget\n",
    "\n",
    "nwb_directory_path = Path(\"/home/heberto/conversion_nwb/\")\n",
    "nwb_file_path = nwb_directory_path / \"ecephys_ephys_demo_0007-0008.nwb\"\n",
    "\n",
    "nwb_file_path = nwb_file_path_list[1]\n",
    "print(f\"{nwb_file_path.name}\")\n",
    "io = NWBHDF5IO(str(nwb_file_path), mode='r', load_namespaces=True)\n",
    "nwb = io.read()\n",
    "\n",
    "nwb2widget(nwb)\n"
   ]
  },
  {
   "cell_type": "code",
   "execution_count": null,
   "metadata": {},
   "outputs": [],
   "source": []
  }
 ],
 "metadata": {
  "kernelspec": {
   "display_name": "Python 3 (ipykernel)",
   "language": "python",
   "name": "python3"
  },
  "language_info": {
   "codemirror_mode": {
    "name": "ipython",
    "version": 3
   },
   "file_extension": ".py",
   "mimetype": "text/x-python",
   "name": "python",
   "nbconvert_exporter": "python",
   "pygments_lexer": "ipython3",
   "version": "3.9.12"
  },
  "vscode": {
   "interpreter": {
    "hash": "1451a8c49258dc48574e4fe30e373408d3006ec5f294a1c4a71cd7776a36c0ea"
   }
  }
 },
 "nbformat": 4,
 "nbformat_minor": 2
}
